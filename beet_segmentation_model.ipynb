{
 "cells": [
  {
   "cell_type": "markdown",
   "id": "b3434362-473c-4195-b7ca-ccb68580fc1f",
   "metadata": {},
   "source": [
    "# Beet segmentation model training"
   ]
  },
  {
   "cell_type": "markdown",
   "id": "0a4bc759-1424-47b0-ab6d-6f35b576affd",
   "metadata": {},
   "source": [
    "Date: 16.11.2023  \n",
    "Authors: Gustav Schimmer & Philipp Friedrich  "
   ]
  },
  {
   "cell_type": "markdown",
   "id": "3939167e-0766-4fec-9746-b0a0965977eb",
   "metadata": {},
   "source": [
    "**This notebook is purposed for training a YOLOv6 algorithm in detecting sugar beet plants on images.**  \n",
    "  \n",
    "  \n",
    "Major steps are:\n",
    "- Downsampling and Resizing of images\n",
    "- Create custom dataset with labeled data\n",
    "- Initialize YOLOv6 algorithm\n",
    "- Train algorithm\n",
    "- Validation of the model\n",
    "- Inferencing YOLOv6 model on test data"
   ]
  },
  {
   "cell_type": "markdown",
   "id": "ee3e18e2-584b-4d9b-ae7a-0324fd24d733",
   "metadata": {},
   "source": [
    "## Import necessary libraries"
   ]
  },
  {
   "cell_type": "code",
   "execution_count": 2,
   "id": "81d12aea-49b4-4274-bba9-ed22a1681563",
   "metadata": {},
   "outputs": [
    {
     "ename": "ModuleNotFoundError",
     "evalue": "No module named 'cv2'",
     "output_type": "error",
     "traceback": [
      "\u001b[1;31m---------------------------------------------------------------------------\u001b[0m",
      "\u001b[1;31mModuleNotFoundError\u001b[0m                       Traceback (most recent call last)",
      "Cell \u001b[1;32mIn[2], line 2\u001b[0m\n\u001b[0;32m      1\u001b[0m \u001b[38;5;28;01mimport\u001b[39;00m \u001b[38;5;21;01mos\u001b[39;00m\n\u001b[1;32m----> 2\u001b[0m \u001b[38;5;28;01mimport\u001b[39;00m \u001b[38;5;21;01mcv2\u001b[39;00m\n",
      "\u001b[1;31mModuleNotFoundError\u001b[0m: No module named 'cv2'"
     ]
    }
   ],
   "source": [
    "import os\n",
    "import cv2\n",
    "from google.colab import drive"
   ]
  },
  {
   "cell_type": "markdown",
   "id": "e02f2ad6-9fa6-47e8-8c3a-a24456706ea5",
   "metadata": {},
   "source": [
    "## Data preparation: Downsampling & Resizing"
   ]
  },
  {
   "cell_type": "markdown",
   "id": "278b4d48-4aa7-49b3-a59a-75e76db52294",
   "metadata": {},
   "source": [
    "Before creation of a custom dataset, data needs to be resampled to a lower resolution to minimize needed computation power. "
   ]
  },
  {
   "cell_type": "markdown",
   "id": "0c6fc5a5-ee3c-4538-8ee9-a81df61cbdd7",
   "metadata": {},
   "source": [
    "#### Define data paths"
   ]
  },
  {
   "cell_type": "code",
   "execution_count": 3,
   "id": "c386d505-6283-4136-99b6-4092c7c0fc01",
   "metadata": {},
   "outputs": [],
   "source": [
    "# Input data path\n",
    "input_folder = r'..\\beet-segmentation\\data\\20230514\\field_1'\n",
    "\n",
    "# Output data path\n",
    "output_folder = r'..\\beet-segmentation\\data\\20230514\\field_1_test_img'"
   ]
  },
  {
   "cell_type": "markdown",
   "id": "6b9eff1c-7b21-4939-9504-61c7d8590725",
   "metadata": {},
   "source": [
    "#### Write function to resample images"
   ]
  },
  {
   "cell_type": "code",
   "execution_count": null,
   "id": "bb76677f-f875-4348-a0b1-bd8ec2e413bd",
   "metadata": {},
   "outputs": [],
   "source": [
    "# Write function to resample images to taret width and height\n",
    "def crop_and_resize_image(input_path, output_folder, square_size, target_width, target_height):\n",
    "    image = cv2.imread(input_path)\n",
    "    if image is not None:\n",
    "        # Verkleinere das Bild auf die Zielgröße\n",
    "        image = cv2.resize(image, (target_width, target_height))\n",
    "        # Zuschneiden in 256x256 Quadraten\n",
    "        for y in range(0, target_height - square_size + 1, square_size):\n",
    "            for x in range(0, target_width - square_size + 1, square_size):\n",
    "                square = image[y:y + square_size, x:x + square_size]\n",
    "                # Speichere das Quadrat mit einem fortlaufenden Index\n",
    "                output_path = os.path.join(output_folder, f\"{os.path.splitext(os.path.basename(input_path))[0]}_{y // square_size * (target_width // square_size) + x // square_size}.jpg\")\n",
    "                cv2.imwrite(output_path, square)"
   ]
  },
  {
   "cell_type": "markdown",
   "id": "2c02d8a1-ee8a-40cf-903e-bb613fb66714",
   "metadata": {},
   "source": [
    "#### Image resampling"
   ]
  },
  {
   "cell_type": "code",
   "execution_count": null,
   "id": "39e0d465-fdaa-4543-a461-10c890651171",
   "metadata": {},
   "outputs": [],
   "source": [
    "# Define target image width and height\n",
    "target_width, target_height = 1500, 2000\n",
    "square_size = 1024\n",
    "\n",
    "# Erstelle den Ausgabeordner, wenn er nicht existiert\n",
    "os.makedirs(output_folder, exist_ok=True)\n",
    "\n",
    "# Durchlaufe alle Bilder im Eingabeordner\n",
    "for filename in os.listdir(input_folder):\n",
    "    if filename.endswith(\".jpg\"):\n",
    "        input_path = os.path.join(input_folder, filename)\n",
    "        crop_and_resize_image(input_path, output_folder, square_size, target_width, target_height)\n",
    "\n",
    "print(\"Image resampling done.\")"
   ]
  },
  {
   "cell_type": "markdown",
   "id": "e16f2d1d-90a1-4dab-ad39-fc17d384d563",
   "metadata": {},
   "source": [
    "#### Create training lables"
   ]
  },
  {
   "cell_type": "markdown",
   "id": "e23fbd65-bf0a-4d18-957d-2aca7d9b0ebd",
   "metadata": {},
   "source": [
    "To train the algorithm training data consisting of annotations are necessary. This often is cost and time intensive\r\n",
    "S some of the open source tools available online are  :* \r\n",
    "\r\n",
    "https://roboflow.com/annotate?ref=blog.roboflow.c* om\r\n",
    "\r\n",
    "https://blog.roboflow.com/c* vat/\r\n",
    "\r\n",
    "https://blog.roboflow.com/la  belimg/\r\n",
    "\r\n",
    "VGI platforms like OSM provided a promising source of massive, free labels together with rich and detailed semantic information for satellite image analysis. Use of multimodal data for mapping more sophisticated objects in OSM with the help of its rich semantic information, has been demonstrated previously by tools such as ohsome2label. However, the tool poses certain limitations w.r.t. the image size (256 by 256 pixels).\r\n",
    "\r\n",
    "At HeiGIT, we have developed a flexible multimodal dataset creation and annotation tool that combines VGI data and VHR Imagery for rapid data generation.\r\n",
    "\r\n",
    "We will be using a simple dataset generated for Wastewater Treatment Plants (WTPs) (at 256 by 256 pixels) using Bing Imagery (VHR) annd OSM data for labelling individual features of WTPs."
   ]
  },
  {
   "cell_type": "markdown",
   "id": "2a8a0c96-3145-4b96-b028-4749dd2465b5",
   "metadata": {},
   "source": [
    "## Create Custom dataset"
   ]
  },
  {
   "cell_type": "code",
   "execution_count": null,
   "id": "7a3ea350-5888-4b7b-91fe-98e952657680",
   "metadata": {},
   "outputs": [],
   "source": []
  },
  {
   "cell_type": "markdown",
   "id": "1bb6bb83-236c-4c0c-b0d2-6ae30cff731b",
   "metadata": {},
   "source": [
    "## Mount Drive for working in Google Colab"
   ]
  },
  {
   "cell_type": "code",
   "execution_count": null,
   "id": "332753d4-77d3-47d6-86de-5f6cadf27c04",
   "metadata": {},
   "outputs": [],
   "source": [
    "drive.mount('/content/drive', force_remount=True)"
   ]
  },
  {
   "cell_type": "code",
   "execution_count": null,
   "id": "c4b26d85-aebb-4dc6-bd38-d3a9a6cac068",
   "metadata": {},
   "outputs": [],
   "source": [
    "HOME = os.getcwd()\n",
    "print(HOME)"
   ]
  },
  {
   "cell_type": "markdown",
   "id": "b59b8b39-1d35-4117-98ae-3ffd6e0d32d6",
   "metadata": {},
   "source": [
    "## Initializing YOLOv6 algorithm"
   ]
  },
  {
   "cell_type": "code",
   "execution_count": null,
   "id": "274340fe-7752-4f52-9af2-19a74de8e1e0",
   "metadata": {},
   "outputs": [],
   "source": [
    "# Download MT-YOLOv6 repository and install requirements\n",
    "!git clone https://github.com/meituan/YOLOv6\n",
    "%cd YOLOv6"
   ]
  },
  {
   "cell_type": "code",
   "execution_count": null,
   "id": "230f93d0-3801-4942-8644-d0999be91d5d",
   "metadata": {},
   "outputs": [],
   "source": [
    "!pip install -r requirements.txt"
   ]
  }
 ],
 "metadata": {
  "kernelspec": {
   "display_name": "Python 3 (ipykernel)",
   "language": "python",
   "name": "python3"
  },
  "language_info": {
   "codemirror_mode": {
    "name": "ipython",
    "version": 3
   },
   "file_extension": ".py",
   "mimetype": "text/x-python",
   "name": "python",
   "nbconvert_exporter": "python",
   "pygments_lexer": "ipython3",
   "version": "3.10.12"
  }
 },
 "nbformat": 4,
 "nbformat_minor": 5
}
