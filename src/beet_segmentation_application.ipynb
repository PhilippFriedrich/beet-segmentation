{
 "cells": [
  {
   "cell_type": "code",
   "execution_count": 1,
   "id": "d16d88db-b588-4505-b4a1-79952a8bc101",
   "metadata": {},
   "outputs": [],
   "source": [
    "from ultralytics import YOLO\n",
    "import os"
   ]
  },
  {
   "cell_type": "code",
   "execution_count": 2,
   "id": "7ea92d87-c828-4f7f-bc8a-2df237332e35",
   "metadata": {},
   "outputs": [],
   "source": [
    "model = YOLO(\"runs/detect/train2/weights/best.pt\")  # pretrained YOLOv8n model"
   ]
  },
  {
   "cell_type": "code",
   "execution_count": 3,
   "id": "a826396d-4814-4e67-9e7f-d0b4afa3e391",
   "metadata": {},
   "outputs": [],
   "source": [
    "image_file = \"../data/zugeschnitteneUndGeoreferenzierteBilder/tile_10_7.tif\""
   ]
  },
  {
   "cell_type": "code",
   "execution_count": 17,
   "id": "b93a619d-c030-4627-be01-a90f55954bf4",
   "metadata": {},
   "outputs": [
    {
     "name": "stdout",
     "output_type": "stream",
     "text": [
      "\n",
      "image 1/1 C:\\Users\\phili\\Documents\\Studium\\Master_Geographie\\5_Semester\\S_Deep_Learning\\beet-segmentation\\src\\..\\data\\zugeschnitteneUndGeoreferenzierteBilder\\tile_10_7.tif: 512x512 1 sugar beet, 55.5ms\n",
      "Speed: 2.4ms preprocess, 55.5ms inference, 1.2ms postprocess per image at shape (1, 3, 512, 512)\n",
      "ultralytics.engine.results.Boxes object with attributes:\n",
      "\n",
      "cls: tensor([0.])\n",
      "conf: tensor([0.2914])\n",
      "data: tensor([[ 39.5665,  72.5044,  89.4624, 127.3525,   0.2914,   0.0000]])\n",
      "id: None\n",
      "is_track: False\n",
      "orig_shape: (512, 512)\n",
      "shape: torch.Size([1, 6])\n",
      "xywh: tensor([[64.5144, 99.9284, 49.8960, 54.8481]])\n",
      "xywhn: tensor([[0.1260, 0.1952, 0.0975, 0.1071]])\n",
      "xyxy: tensor([[ 39.5665,  72.5044,  89.4624, 127.3525]])\n",
      "xyxyn: tensor([[0.0773, 0.1416, 0.1747, 0.2487]])\n"
     ]
    }
   ],
   "source": [
    "results = model(image_file)\n",
    "print(results[0].boxes[0])"
   ]
  },
  {
   "cell_type": "code",
   "execution_count": 28,
   "id": "99031e1b-5988-4415-9891-a6843c1f75ed",
   "metadata": {},
   "outputs": [],
   "source": [
    "for result in results:\n",
    "    boxes = result.boxes\n",
    "    pixel_x = boxes.xyxy[0][0].item()\n",
    "    pixel_y = boxes.xyxy[0][1].item()"
   ]
  },
  {
   "cell_type": "code",
   "execution_count": 29,
   "id": "c2c35624-dc79-40bc-805a-a403b68ab4ec",
   "metadata": {},
   "outputs": [
    {
     "name": "stdout",
     "output_type": "stream",
     "text": [
      "39.56645965576172 72.50437927246094\n"
     ]
    }
   ],
   "source": [
    "print(pixel_x, pixel_y)"
   ]
  },
  {
   "cell_type": "code",
   "execution_count": 26,
   "id": "33c59c81-3c71-4b58-a55c-da55e82005c7",
   "metadata": {},
   "outputs": [],
   "source": [
    "from osgeo import gdal\n",
    "import numpy as np\n",
    "\n",
    "def pixel_to_geo(pixel_x, pixel_y, geotransform):\n",
    "    geo_x = geotransform[0] + pixel_x * geotransform[1] + pixel_y * geotransform[2]\n",
    "    geo_y = geotransform[3] + pixel_x * geotransform[4] + pixel_y * geotransform[5]\n",
    "    return geo_x, geo_y"
   ]
  },
  {
   "cell_type": "code",
   "execution_count": 30,
   "id": "a0accdd9-1bbf-4818-8b1f-4681d8206549",
   "metadata": {},
   "outputs": [
    {
     "name": "stderr",
     "output_type": "stream",
     "text": [
      "C:\\Users\\phili\\anaconda3\\envs\\advgeo\\lib\\site-packages\\osgeo\\gdal.py:287: FutureWarning: Neither gdal.UseExceptions() nor gdal.DontUseExceptions() has been explicitly called. In GDAL 4.0, exceptions will be enabled by default.\n",
      "  warnings.warn(\n"
     ]
    }
   ],
   "source": [
    "# Example usage\n",
    "dataset = gdal.Open(image_file)\n",
    "if dataset is None:\n",
    "    raise FileNotFoundError(\"Image file not found\")\n",
    "\n",
    "# Get geotransform\n",
    "geotransform = dataset.GetGeoTransform()"
   ]
  },
  {
   "cell_type": "code",
   "execution_count": 31,
   "id": "b328b00b-c6d2-47cf-95bf-3f3c23a296c1",
   "metadata": {},
   "outputs": [
    {
     "name": "stdout",
     "output_type": "stream",
     "text": [
      "(576493.5316589577, 0.00040246724450860487, 0.0, 5516320.659712749, 0.0, 0.00040246724450860487)\n"
     ]
    }
   ],
   "source": [
    "print(geotransform)"
   ]
  },
  {
   "cell_type": "code",
   "execution_count": 32,
   "id": "a0f65ff8-1165-4aa6-9f22-6f54e75b50cc",
   "metadata": {},
   "outputs": [
    {
     "name": "stdout",
     "output_type": "stream",
     "text": [
      "Geographic coordinates: 576493.5475831617 5516320.688893386\n"
     ]
    }
   ],
   "source": [
    "# Convert pixel coordinates to geographic coordinates\n",
    "geo_x, geo_y = pixel_to_geo(pixel_x, pixel_y, geotransform)\n",
    "print(\"Geographic coordinates:\", geo_x, geo_y)\n",
    "\n",
    "# Close the dataset\n",
    "dataset = None"
   ]
  },
  {
   "cell_type": "code",
   "execution_count": null,
   "id": "9bfc7942-0f68-4ea6-8fde-33770b6dd619",
   "metadata": {},
   "outputs": [],
   "source": []
  }
 ],
 "metadata": {
  "kernelspec": {
   "display_name": "Python 3 (ipykernel)",
   "language": "python",
   "name": "python3"
  },
  "language_info": {
   "codemirror_mode": {
    "name": "ipython",
    "version": 3
   },
   "file_extension": ".py",
   "mimetype": "text/x-python",
   "name": "python",
   "nbconvert_exporter": "python",
   "pygments_lexer": "ipython3",
   "version": "3.10.12"
  }
 },
 "nbformat": 4,
 "nbformat_minor": 5
}
