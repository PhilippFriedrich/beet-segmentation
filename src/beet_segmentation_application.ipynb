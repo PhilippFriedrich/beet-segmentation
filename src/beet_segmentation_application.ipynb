{
 "cells": [
  {
   "cell_type": "code",
   "execution_count": 51,
   "id": "d16d88db-b588-4505-b4a1-79952a8bc101",
   "metadata": {},
   "outputs": [],
   "source": [
    "from ultralytics import YOLO\n",
    "import os\n",
    "import geopandas as gpd\n",
    "from shapely.geometry import Polygon"
   ]
  },
  {
   "cell_type": "code",
   "execution_count": 34,
   "id": "7ea92d87-c828-4f7f-bc8a-2df237332e35",
   "metadata": {},
   "outputs": [],
   "source": [
    "model = YOLO(\"runs/detect/train2/weights/best.pt\")  # pretrained YOLOv8n model"
   ]
  },
  {
   "cell_type": "code",
   "execution_count": 35,
   "id": "a826396d-4814-4e67-9e7f-d0b4afa3e391",
   "metadata": {},
   "outputs": [],
   "source": [
    "image_file = \"../data/tilesZugeschnittenUndJsonZurGeoRef/tile_1024_12800.tif\""
   ]
  },
  {
   "cell_type": "code",
   "execution_count": 36,
   "id": "b93a619d-c030-4627-be01-a90f55954bf4",
   "metadata": {},
   "outputs": [
    {
     "name": "stdout",
     "output_type": "stream",
     "text": [
      "\n",
      "image 1/1 C:\\Users\\phili\\Documents\\Studium\\Master_Geographie\\5_Semester\\S_Deep_Learning\\beet-segmentation\\src\\..\\data\\tilesZugeschnittenUndJsonZurGeoRef\\tile_1024_12800.tif: 512x512 1 sugar beet, 61.8ms\n",
      "Speed: 3.0ms preprocess, 61.8ms inference, 3.0ms postprocess per image at shape (1, 3, 512, 512)\n",
      "ultralytics.engine.results.Boxes object with attributes:\n",
      "\n",
      "cls: tensor([0.])\n",
      "conf: tensor([0.2744])\n",
      "data: tensor([[3.2210e+02, 2.1581e+02, 3.6341e+02, 2.6650e+02, 2.7444e-01, 0.0000e+00]])\n",
      "id: None\n",
      "is_track: False\n",
      "orig_shape: (512, 512)\n",
      "shape: torch.Size([1, 6])\n",
      "xywh: tensor([[342.7574, 241.1524,  41.3069,  50.6885]])\n",
      "xywhn: tensor([[0.6694, 0.4710, 0.0807, 0.0990]])\n",
      "xyxy: tensor([[322.1039, 215.8082, 363.4108, 266.4966]])\n",
      "xyxyn: tensor([[0.6291, 0.4215, 0.7098, 0.5205]])\n"
     ]
    }
   ],
   "source": [
    "results = model(image_file)\n",
    "print(results[0].boxes[0])"
   ]
  },
  {
   "cell_type": "code",
   "execution_count": 39,
   "id": "99031e1b-5988-4415-9891-a6843c1f75ed",
   "metadata": {},
   "outputs": [],
   "source": [
    "for result in results:\n",
    "    boxes = result.boxes\n",
    "    pixel_xmin = boxes.xyxy[0][0].item()\n",
    "    pixel_ymin = boxes.xyxy[0][1].item()\n",
    "    pixel_xmax = boxes.xyxy[0][2].item()\n",
    "    pixel_ymax = boxes.xyxy[0][3].item()"
   ]
  },
  {
   "cell_type": "code",
   "execution_count": 40,
   "id": "c2c35624-dc79-40bc-805a-a403b68ab4ec",
   "metadata": {},
   "outputs": [
    {
     "name": "stdout",
     "output_type": "stream",
     "text": [
      "322.10394287109375 215.80816650390625 363.41082763671875 266.49664306640625\n"
     ]
    }
   ],
   "source": [
    "print(pixel_xmin, pixel_ymin, pixel_xmax, pixel_ymax)"
   ]
  },
  {
   "cell_type": "code",
   "execution_count": 41,
   "id": "33c59c81-3c71-4b58-a55c-da55e82005c7",
   "metadata": {},
   "outputs": [],
   "source": [
    "from osgeo import gdal\n",
    "import numpy as np\n",
    "\n",
    "def pixel_to_geo(pixel_x, pixel_y, geotransform):\n",
    "    geo_x = geotransform[0] + pixel_x * geotransform[1] + pixel_y * geotransform[2]\n",
    "    geo_y = geotransform[3] + pixel_x * geotransform[4] + pixel_y * geotransform[5]\n",
    "    return geo_x, geo_y"
   ]
  },
  {
   "cell_type": "code",
   "execution_count": 42,
   "id": "a0accdd9-1bbf-4818-8b1f-4681d8206549",
   "metadata": {},
   "outputs": [],
   "source": [
    "# Example usage\n",
    "dataset = gdal.Open(image_file)\n",
    "if dataset is None:\n",
    "    raise FileNotFoundError(\"Image file not found\")\n",
    "\n",
    "# Get geotransform\n",
    "geotransform = dataset.GetGeoTransform()"
   ]
  },
  {
   "cell_type": "code",
   "execution_count": 43,
   "id": "b328b00b-c6d2-47cf-95bf-3f3c23a296c1",
   "metadata": {},
   "outputs": [
    {
     "name": "stdout",
     "output_type": "stream",
     "text": [
      "(576497.2407970831, 0.00040246724450860487, 0.0, 5516317.9808907695, 0.0, -0.00040246724450860487)\n"
     ]
    }
   ],
   "source": [
    "print(geotransform)"
   ]
  },
  {
   "cell_type": "code",
   "execution_count": 45,
   "id": "a0f65ff8-1165-4aa6-9f22-6f54e75b50cc",
   "metadata": {},
   "outputs": [
    {
     "name": "stdout",
     "output_type": "stream",
     "text": [
      "Geographic coordinates: 576497.3704333694 5516317.894035052 576497.3870580376 5516317.8736346\n"
     ]
    }
   ],
   "source": [
    "# Convert pixel coordinates to geographic coordinates\n",
    "geo_xmin, geo_ymin = pixel_to_geo(pixel_xmin, pixel_ymin, geotransform)\n",
    "geo_xmax, geo_ymax = pixel_to_geo(pixel_xmax, pixel_ymax, geotransform)\n",
    "print(\"Geographic coordinates:\", geo_xmin, geo_ymin, geo_xmax, geo_ymax)\n",
    "\n",
    "# Close the dataset\n",
    "dataset = None"
   ]
  },
  {
   "cell_type": "code",
   "execution_count": 49,
   "id": "9bfc7942-0f68-4ea6-8fde-33770b6dd619",
   "metadata": {},
   "outputs": [
    {
     "name": "stdout",
     "output_type": "stream",
     "text": [
      "Bounding box as a Shapely Polygon object: POLYGON ((576497.3704333694 5516317.894035052, 576497.3870580376 5516317.894035052, 576497.3870580376 5516317.8736346, 576497.3704333694 5516317.8736346, 576497.3704333694 5516317.894035052))\n"
     ]
    }
   ],
   "source": [
    "# Create a bounding box as a Shapely Polygon object\n",
    "bounding_box = Polygon([(geo_xmin, geo_ymin), (geo_xmax, geo_ymin), (geo_xmax, geo_ymax), (geo_xmin, geo_ymax)])\n",
    "\n",
    "# Print the bounding box\n",
    "print(\"Bounding box as a Shapely Polygon object:\", bounding_box)"
   ]
  },
  {
   "cell_type": "code",
   "execution_count": 52,
   "id": "476586d5-7ce6-4c79-b8b5-63b228d11106",
   "metadata": {},
   "outputs": [
    {
     "name": "stdout",
     "output_type": "stream",
     "text": [
      "Bounding box exported to: bounding_box.geojson\n"
     ]
    }
   ],
   "source": [
    "# Create a GeoDataFrame with the bounding box\n",
    "gdf = gpd.GeoDataFrame(geometry=[bounding_box])\n",
    "\n",
    "# Define the output file path\n",
    "output_file = \"bounding_box.geojson\"\n",
    "\n",
    "# Export the GeoDataFrame to a GeoJSON file\n",
    "gdf.to_file(output_file, driver='GeoJSON')\n",
    "\n",
    "print(\"Bounding box exported to:\", output_file)"
   ]
  },
  {
   "cell_type": "code",
   "execution_count": null,
   "id": "5de457c7-6684-450f-aa83-f801d1ac8eee",
   "metadata": {},
   "outputs": [],
   "source": []
  }
 ],
 "metadata": {
  "kernelspec": {
   "display_name": "Python 3 (ipykernel)",
   "language": "python",
   "name": "python3"
  },
  "language_info": {
   "codemirror_mode": {
    "name": "ipython",
    "version": 3
   },
   "file_extension": ".py",
   "mimetype": "text/x-python",
   "name": "python",
   "nbconvert_exporter": "python",
   "pygments_lexer": "ipython3",
   "version": "3.10.12"
  }
 },
 "nbformat": 4,
 "nbformat_minor": 5
}
