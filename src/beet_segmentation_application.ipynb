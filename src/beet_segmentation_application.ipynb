{
 "cells": [
  {
   "cell_type": "code",
   "execution_count": 1,
   "id": "d16d88db-b588-4505-b4a1-79952a8bc101",
   "metadata": {},
   "outputs": [
    {
     "name": "stderr",
     "output_type": "stream",
     "text": [
      "C:\\Users\\phili\\AppData\\Local\\Temp\\ipykernel_106428\\3450588983.py:3: DeprecationWarning: Shapely 2.0 is installed, but because PyGEOS is also installed, GeoPandas still uses PyGEOS by default. However, starting with version 0.14, the default will switch to Shapely. To force to use Shapely 2.0 now, you can either uninstall PyGEOS or set the environment variable USE_PYGEOS=0. You can do this before starting the Python process, or in your code before importing geopandas:\n",
      "\n",
      "import os\n",
      "os.environ['USE_PYGEOS'] = '0'\n",
      "import geopandas\n",
      "\n",
      "In the next release, GeoPandas will switch to using Shapely by default, even if PyGEOS is installed. If you only have PyGEOS installed to get speed-ups, this switch should be smooth. However, if you are using PyGEOS directly (calling PyGEOS functions on geometries from GeoPandas), this will then stop working and you are encouraged to migrate from PyGEOS to Shapely 2.0 (https://shapely.readthedocs.io/en/latest/migration_pygeos.html).\n",
      "  import geopandas as gpd\n"
     ]
    }
   ],
   "source": [
    "from ultralytics import YOLO\n",
    "import os\n",
    "import geopandas as gpd\n",
    "from shapely.geometry import Polygon"
   ]
  },
  {
   "cell_type": "code",
   "execution_count": 2,
   "id": "7ea92d87-c828-4f7f-bc8a-2df237332e35",
   "metadata": {},
   "outputs": [],
   "source": [
    "model = YOLO(\"../runs/detect/train/weights/best.pt\")  # pretrained YOLOv8n model"
   ]
  },
  {
   "cell_type": "code",
   "execution_count": 22,
   "id": "a826396d-4814-4e67-9e7f-d0b4afa3e391",
   "metadata": {},
   "outputs": [],
   "source": [
    "image_file = \"../data/tilesZugeschnittenUndJsonZurGeoRef/tile_1536_11264.tif\"\n",
    "\n",
    "# tile_1536_11264\n",
    "# tile_1024_10240"
   ]
  },
  {
   "cell_type": "code",
   "execution_count": 23,
   "id": "b93a619d-c030-4627-be01-a90f55954bf4",
   "metadata": {},
   "outputs": [
    {
     "name": "stdout",
     "output_type": "stream",
     "text": [
      "\n",
      "image 1/1 C:\\Users\\phili\\Documents\\Studium\\Master_Geographie\\5_Semester\\S_Deep_Learning\\beet-segmentation\\src\\..\\data\\tilesZugeschnittenUndJsonZurGeoRef\\tile_1536_11264.tif: 512x512 2 sugar beets, 47.7ms\n",
      "Speed: 2.0ms preprocess, 47.7ms inference, 1.0ms postprocess per image at shape (1, 3, 512, 512)\n",
      "ultralytics.engine.results.Boxes object with attributes:\n",
      "\n",
      "cls: tensor([0., 0.])\n",
      "conf: tensor([0.5101, 0.3447])\n",
      "data: tensor([[2.4349e+02, 1.4902e+02, 3.7506e+02, 2.4648e+02, 5.1014e-01, 0.0000e+00],\n",
      "        [2.2742e+02, 1.4652e+02, 3.6526e+02, 2.2329e+02, 3.4469e-01, 0.0000e+00]])\n",
      "id: None\n",
      "is_track: False\n",
      "orig_shape: (512, 512)\n",
      "shape: torch.Size([2, 6])\n",
      "xywh: tensor([[309.2744, 197.7469, 131.5725,  97.4607],\n",
      "        [296.3383, 184.9025, 137.8449,  76.7694]])\n",
      "xywhn: tensor([[0.6041, 0.3862, 0.2570, 0.1904],\n",
      "        [0.5788, 0.3611, 0.2692, 0.1499]])\n",
      "xyxy: tensor([[243.4881, 149.0165, 375.0607, 246.4772],\n",
      "        [227.4158, 146.5178, 365.2607, 223.2872]])\n",
      "xyxyn: tensor([[0.4756, 0.2910, 0.7325, 0.4814],\n",
      "        [0.4442, 0.2862, 0.7134, 0.4361]])\n"
     ]
    }
   ],
   "source": [
    "results = model(image_file)\n",
    "print(results[0].boxes)"
   ]
  },
  {
   "cell_type": "code",
   "execution_count": 24,
   "id": "99031e1b-5988-4415-9891-a6843c1f75ed",
   "metadata": {},
   "outputs": [],
   "source": [
    "for result in results:\n",
    "    boxes = result.boxes\n",
    "    if boxes.shape[0] != 0:\n",
    "        pixel_xmin = boxes.xyxy[0][0].item()\n",
    "        pixel_ymin = boxes.xyxy[0][1].item()\n",
    "        pixel_xmax = boxes.xyxy[0][2].item()\n",
    "        pixel_ymax = boxes.xyxy[0][3].item()\n",
    "    else:\n",
    "        continue"
   ]
  },
  {
   "cell_type": "code",
   "execution_count": 25,
   "id": "c2c35624-dc79-40bc-805a-a403b68ab4ec",
   "metadata": {},
   "outputs": [
    {
     "name": "stdout",
     "output_type": "stream",
     "text": [
      "243.48814392089844 149.0165252685547 375.0606689453125 246.4772491455078\n"
     ]
    }
   ],
   "source": [
    "print(pixel_xmin, pixel_ymin, pixel_xmax, pixel_ymax)"
   ]
  },
  {
   "cell_type": "code",
   "execution_count": 26,
   "id": "33c59c81-3c71-4b58-a55c-da55e82005c7",
   "metadata": {},
   "outputs": [],
   "source": [
    "from osgeo import gdal\n",
    "import numpy as np\n",
    "\n",
    "def pixel_to_geo(pixel_x, pixel_y, geotransform):\n",
    "    geo_x = geotransform[0] + pixel_x * geotransform[1] + pixel_y * geotransform[2]\n",
    "    geo_y = geotransform[3] + pixel_x * geotransform[4] + pixel_y * geotransform[5]\n",
    "    return geo_x, geo_y"
   ]
  },
  {
   "cell_type": "code",
   "execution_count": 27,
   "id": "a0accdd9-1bbf-4818-8b1f-4681d8206549",
   "metadata": {},
   "outputs": [],
   "source": [
    "# Example usage\n",
    "dataset = gdal.Open(image_file)\n",
    "if dataset is None:\n",
    "    raise FileNotFoundError(\"Image file not found\")\n",
    "\n",
    "# Get geotransform\n",
    "geotransform = dataset.GetGeoTransform()"
   ]
  },
  {
   "cell_type": "code",
   "execution_count": 28,
   "id": "b328b00b-c6d2-47cf-95bf-3f3c23a296c1",
   "metadata": {},
   "outputs": [
    {
     "name": "stdout",
     "output_type": "stream",
     "text": [
      "(576496.6226073955, 0.00040246724450860487, 0.0, 5516317.77482754, 0.0, -0.00040246724450860487)\n"
     ]
    }
   ],
   "source": [
    "print(geotransform)"
   ]
  },
  {
   "cell_type": "code",
   "execution_count": 29,
   "id": "a0f65ff8-1165-4aa6-9f22-6f54e75b50cc",
   "metadata": {},
   "outputs": [
    {
     "name": "stdout",
     "output_type": "stream",
     "text": [
      "Geographic coordinates: 576496.7206033979 5516317.71485327 576496.7735570294 5516317.675628521\n"
     ]
    }
   ],
   "source": [
    "# Convert pixel coordinates to geographic coordinates\n",
    "geo_xmin, geo_ymin = pixel_to_geo(pixel_xmin, pixel_ymin, geotransform)\n",
    "geo_xmax, geo_ymax = pixel_to_geo(pixel_xmax, pixel_ymax, geotransform)\n",
    "print(\"Geographic coordinates:\", geo_xmin, geo_ymin, geo_xmax, geo_ymax)\n",
    "\n",
    "# Close the dataset\n",
    "dataset = None"
   ]
  },
  {
   "cell_type": "code",
   "execution_count": 30,
   "id": "9bfc7942-0f68-4ea6-8fde-33770b6dd619",
   "metadata": {},
   "outputs": [
    {
     "name": "stdout",
     "output_type": "stream",
     "text": [
      "Bounding box as a Shapely Polygon object: POLYGON ((576496.7206033979 5516317.71485327, 576496.7735570294 5516317.71485327, 576496.7735570294 5516317.675628521, 576496.7206033979 5516317.675628521, 576496.7206033979 5516317.71485327))\n"
     ]
    }
   ],
   "source": [
    "# Create a bounding box as a Shapely Polygon object\n",
    "bounding_box = Polygon([(geo_xmin, geo_ymin), (geo_xmax, geo_ymin), (geo_xmax, geo_ymax), (geo_xmin, geo_ymax)])\n",
    "\n",
    "# Print the bounding box\n",
    "print(\"Bounding box as a Shapely Polygon object:\", bounding_box)"
   ]
  },
  {
   "cell_type": "code",
   "execution_count": 33,
   "id": "476586d5-7ce6-4c79-b8b5-63b228d11106",
   "metadata": {},
   "outputs": [
    {
     "data": {
      "text/plain": [
       "0    Polygon\n",
       "dtype: object"
      ]
     },
     "execution_count": 33,
     "metadata": {},
     "output_type": "execute_result"
    }
   ],
   "source": [
    "# Create a GeoDataFrame with the bounding box\n",
    "gdf = gpd.GeoDataFrame(geometry=[bounding_box])\n",
    "\n",
    "# Buffer single polygons\n",
    "buffered_gdf = gdf.buffer(0.025)\n",
    "\n",
    "buffered_gdf.type"
   ]
  },
  {
   "cell_type": "code",
   "execution_count": 32,
   "id": "5de457c7-6684-450f-aa83-f801d1ac8eee",
   "metadata": {},
   "outputs": [
    {
     "name": "stdout",
     "output_type": "stream",
     "text": [
      "Bounding box exported to: bounding_box4.geojson\n"
     ]
    }
   ],
   "source": [
    "# Define the output file path\n",
    "output_file = \"bounding_box4.geojson\"\n",
    "\n",
    "# Export the GeoDataFrame to a GeoJSON file\n",
    "buffered_gdf.to_file(output_file, driver='GeoJSON')\n",
    "\n",
    "print(\"Bounding box exported to:\", output_file)"
   ]
  },
  {
   "cell_type": "code",
   "execution_count": null,
   "id": "5b695da7-54b0-4077-a728-a934a57127ce",
   "metadata": {},
   "outputs": [],
   "source": []
  }
 ],
 "metadata": {
  "kernelspec": {
   "display_name": "Python 3 (ipykernel)",
   "language": "python",
   "name": "python3"
  },
  "language_info": {
   "codemirror_mode": {
    "name": "ipython",
    "version": 3
   },
   "file_extension": ".py",
   "mimetype": "text/x-python",
   "name": "python",
   "nbconvert_exporter": "python",
   "pygments_lexer": "ipython3",
   "version": "3.10.12"
  }
 },
 "nbformat": 4,
 "nbformat_minor": 5
}
