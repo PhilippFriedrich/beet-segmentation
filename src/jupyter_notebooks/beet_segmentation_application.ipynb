{
 "cells": [
  {
   "cell_type": "markdown",
   "id": "478d6dec-e430-4178-a710-18245e8de5be",
   "metadata": {},
   "source": [
    "# Beet segmentation model application"
   ]
  },
  {
   "cell_type": "markdown",
   "id": "53880acb-3d15-48a5-9fb7-210ad24a66dc",
   "metadata": {},
   "source": [
    "Date: 18.02.2024  \n",
    "Authors: Gustav Schimmer & Philipp Friedrich"
   ]
  },
  {
   "cell_type": "markdown",
   "id": "8ed6175f-c906-4673-a53e-0812bdec6fe4",
   "metadata": {},
   "source": [
    "**This notebook is purposed for explaining the application of the previously trained YOLOv6 algorithm in detecting sugar beet plants on georeferenzed images.**  "
   ]
  },
  {
   "cell_type": "markdown",
   "id": "c3a79874-c0a4-4da3-ba15-1d99f787b3c9",
   "metadata": {},
   "source": [
    "## Import necessary libraries"
   ]
  },
  {
   "cell_type": "code",
   "execution_count": 1,
   "id": "d16d88db-b588-4505-b4a1-79952a8bc101",
   "metadata": {},
   "outputs": [
    {
     "name": "stderr",
     "output_type": "stream",
     "text": [
      "C:\\Users\\phili\\AppData\\Local\\Temp\\ipykernel_156604\\2977665569.py:3: DeprecationWarning: Shapely 2.0 is installed, but because PyGEOS is also installed, GeoPandas still uses PyGEOS by default. However, starting with version 0.14, the default will switch to Shapely. To force to use Shapely 2.0 now, you can either uninstall PyGEOS or set the environment variable USE_PYGEOS=0. You can do this before starting the Python process, or in your code before importing geopandas:\n",
      "\n",
      "import os\n",
      "os.environ['USE_PYGEOS'] = '0'\n",
      "import geopandas\n",
      "\n",
      "In the next release, GeoPandas will switch to using Shapely by default, even if PyGEOS is installed. If you only have PyGEOS installed to get speed-ups, this switch should be smooth. However, if you are using PyGEOS directly (calling PyGEOS functions on geometries from GeoPandas), this will then stop working and you are encouraged to migrate from PyGEOS to Shapely 2.0 (https://shapely.readthedocs.io/en/latest/migration_pygeos.html).\n",
      "  import geopandas as gpd\n"
     ]
    }
   ],
   "source": [
    "from ultralytics import YOLO\n",
    "import os\n",
    "import geopandas as gpd\n",
    "from shapely.geometry import Polygon\n",
    "from osgeo import gdal\n",
    "import numpy as np"
   ]
  },
  {
   "cell_type": "markdown",
   "id": "100242d5-4ed6-45c1-88ad-3e072ec27d3f",
   "metadata": {},
   "source": [
    "## Load previously trained YOLOv6 model using ultralytics package and provide some test image"
   ]
  },
  {
   "cell_type": "code",
   "execution_count": 2,
   "id": "7ea92d87-c828-4f7f-bc8a-2df237332e35",
   "metadata": {},
   "outputs": [],
   "source": [
    "model = YOLO(\"../../YOLOv6/runs/detect/train/weights/best.pt\")  # pretrained YOLOv6n model"
   ]
  },
  {
   "cell_type": "markdown",
   "id": "511b53aa-374f-406b-b722-f636530d54d5",
   "metadata": {},
   "source": [
    "Now we can load a test image..."
   ]
  },
  {
   "cell_type": "code",
   "execution_count": 3,
   "id": "a826396d-4814-4e67-9e7f-d0b4afa3e391",
   "metadata": {},
   "outputs": [],
   "source": [
    "image_file = \"../../data/20230514/field_1_orthophoto_tiles/tile_1536_11264.tif\"\n",
    "\n",
    "# tile_1536_11264\n",
    "# tile_1024_10240\n",
    "# try these two files"
   ]
  },
  {
   "cell_type": "markdown",
   "id": "ffb551ce-b0ba-4cda-8c98-0bf8ad5e3613",
   "metadata": {},
   "source": [
    "## Apply model to image and extract bounding box coordinates"
   ]
  },
  {
   "cell_type": "markdown",
   "id": "fbeecec4-c77d-4043-b900-4221ce478135",
   "metadata": {},
   "source": [
    "This line will apply the model to our provided image."
   ]
  },
  {
   "cell_type": "code",
   "execution_count": 7,
   "id": "e1c33fb6-2e9b-463a-9564-21d01ebe45df",
   "metadata": {},
   "outputs": [
    {
     "name": "stdout",
     "output_type": "stream",
     "text": [
      "\n",
      "image 1/1 C:\\Users\\phili\\Documents\\Studium\\Master_Geographie\\5_Semester\\S_Deep_Learning\\beet-segmentation\\src\\jupyter_notebooks\\..\\..\\data\\20230514\\field_1_orthophoto_tiles\\tile_1536_11264.tif: 512x512 2 sugar beets, 53.1ms\n",
      "Speed: 2.1ms preprocess, 53.1ms inference, 1.0ms postprocess per image at shape (1, 3, 512, 512)\n"
     ]
    },
    {
     "data": {
      "text/plain": [
       "list"
      ]
     },
     "execution_count": 7,
     "metadata": {},
     "output_type": "execute_result"
    }
   ],
   "source": [
    "# Apply model to image\n",
    "results = model(image_file)\n",
    "type(results)"
   ]
  },
  {
   "cell_type": "markdown",
   "id": "33ceb444-c7db-4400-a53d-bc15663caa15",
   "metadata": {},
   "source": [
    "After model application, we can extract the bounding box coordinates. Note that the coordinates are pixel coordinates! They need to be transformed to geographical coordinates later."
   ]
  },
  {
   "cell_type": "code",
   "execution_count": 8,
   "id": "99031e1b-5988-4415-9891-a6843c1f75ed",
   "metadata": {},
   "outputs": [
    {
     "name": "stdout",
     "output_type": "stream",
     "text": [
      "<class 'ultralytics.engine.results.Results'>\n",
      "<class 'ultralytics.engine.results.Boxes'>\n"
     ]
    }
   ],
   "source": [
    "for result in results:\n",
    "    print(type(result))\n",
    "    boxes = result.boxes\n",
    "    print(type(boxes))\n",
    "    if boxes.shape[0] != 0:\n",
    "        pixel_xmin = boxes.xyxy[0][0].item()\n",
    "        pixel_ymin = boxes.xyxy[0][1].item()\n",
    "        pixel_xmax = boxes.xyxy[0][2].item()\n",
    "        pixel_ymax = boxes.xyxy[0][3].item()\n",
    "    else:\n",
    "        continue"
   ]
  },
  {
   "cell_type": "markdown",
   "id": "7d45a712-05d5-461f-aa06-446f7112c6d5",
   "metadata": {},
   "source": [
    "We can now print the pixel coordinates and see whats there. The bounding box coordinates are stored as xmin, ymin, xmax, ymax. "
   ]
  },
  {
   "cell_type": "code",
   "execution_count": 6,
   "id": "c2c35624-dc79-40bc-805a-a403b68ab4ec",
   "metadata": {},
   "outputs": [
    {
     "name": "stdout",
     "output_type": "stream",
     "text": [
      "243.48814392089844 149.0165252685547 375.0606689453125 246.4772491455078\n"
     ]
    }
   ],
   "source": [
    "print(pixel_xmin, pixel_ymin, pixel_xmax, pixel_ymax)"
   ]
  },
  {
   "cell_type": "markdown",
   "id": "2c4cc0c7-2ddb-4c54-b955-0a0462b23204",
   "metadata": {},
   "source": [
    "## Convert pixel coordinates to geographic coordinates"
   ]
  },
  {
   "cell_type": "markdown",
   "id": "cbc7818e-1c08-46bb-8dc3-fe167282d801",
   "metadata": {},
   "source": [
    "To convert the pixel coordinates to geographic coordinates we first write a function that does the job:"
   ]
  },
  {
   "cell_type": "code",
   "execution_count": 7,
   "id": "33c59c81-3c71-4b58-a55c-da55e82005c7",
   "metadata": {},
   "outputs": [],
   "source": [
    "# This function will convert pixel coordinates to geographic coordinates\n",
    "def pixel_to_geo(pixel_x, pixel_y, geotransform):\n",
    "    geo_x = geotransform[0] + pixel_x * geotransform[1] + pixel_y * geotransform[2]\n",
    "    geo_y = geotransform[3] + pixel_x * geotransform[4] + pixel_y * geotransform[5]\n",
    "    return geo_x, geo_y"
   ]
  },
  {
   "cell_type": "markdown",
   "id": "e0f61903-4165-4d3b-9832-317ed190e5dd",
   "metadata": {},
   "source": [
    "#### Get transformation information"
   ]
  },
  {
   "cell_type": "markdown",
   "id": "307500a7-90c0-4c3b-b9d9-e81d0b68d607",
   "metadata": {},
   "source": [
    "Before we can convert the coordinates we need to get the transformation information from the georeferenced image! Therefore we need to load the image using a geospatial raster library like GDAL. Afterwards we extract the transformation information."
   ]
  },
  {
   "cell_type": "code",
   "execution_count": 8,
   "id": "a0accdd9-1bbf-4818-8b1f-4681d8206549",
   "metadata": {},
   "outputs": [
    {
     "name": "stderr",
     "output_type": "stream",
     "text": [
      "C:\\Users\\phili\\anaconda3\\envs\\advgeo\\lib\\site-packages\\osgeo\\gdal.py:287: FutureWarning: Neither gdal.UseExceptions() nor gdal.DontUseExceptions() has been explicitly called. In GDAL 4.0, exceptions will be enabled by default.\n",
      "  warnings.warn(\n"
     ]
    }
   ],
   "source": [
    "# Load the image using GDAL\n",
    "dataset = gdal.Open(image_file)\n",
    "if dataset is None:\n",
    "    raise FileNotFoundError(\"Image file not found\")\n",
    "\n",
    "# Get geotransform information\n",
    "geotransform = dataset.GetGeoTransform()"
   ]
  },
  {
   "cell_type": "markdown",
   "id": "c09e8319-66e3-42dc-a05f-0107ea4f5610",
   "metadata": {},
   "source": [
    "Let's see what's in there:"
   ]
  },
  {
   "cell_type": "code",
   "execution_count": 9,
   "id": "b328b00b-c6d2-47cf-95bf-3f3c23a296c1",
   "metadata": {},
   "outputs": [
    {
     "name": "stdout",
     "output_type": "stream",
     "text": [
      "(576496.6226073955, 0.00040246724450860487, 0.0, 5516317.77482754, 0.0, -0.00040246724450860487)\n"
     ]
    }
   ],
   "source": [
    "print(geotransform)"
   ]
  },
  {
   "cell_type": "markdown",
   "id": "1cc89fc4-88fd-4cdd-bfa2-a49b3ec9b600",
   "metadata": {},
   "source": [
    "#### Coordinate conversion"
   ]
  },
  {
   "cell_type": "markdown",
   "id": "ee5d0887-b1dd-4cbc-a40f-88137f6c9349",
   "metadata": {},
   "source": [
    "No we apply the function written above to transform the bounding box coordinates from pixel to geographic coordinates."
   ]
  },
  {
   "cell_type": "code",
   "execution_count": 10,
   "id": "a0f65ff8-1165-4aa6-9f22-6f54e75b50cc",
   "metadata": {},
   "outputs": [
    {
     "name": "stdout",
     "output_type": "stream",
     "text": [
      "Geographic coordinates: 576496.7206033979 5516317.71485327 576496.7735570294 5516317.675628521\n"
     ]
    }
   ],
   "source": [
    "# Convert pixel coordinates to geographic coordinates\n",
    "geo_xmin, geo_ymin = pixel_to_geo(pixel_xmin, pixel_ymin, geotransform)\n",
    "geo_xmax, geo_ymax = pixel_to_geo(pixel_xmax, pixel_ymax, geotransform)\n",
    "print(\"Geographic coordinates:\", geo_xmin, geo_ymin, geo_xmax, geo_ymax)\n",
    "\n",
    "# Close the dataset\n",
    "dataset = None"
   ]
  },
  {
   "cell_type": "markdown",
   "id": "bd3c50a0-4089-48b4-88a4-968e34836cef",
   "metadata": {},
   "source": [
    "## Create polygon and export bounding box"
   ]
  },
  {
   "cell_type": "markdown",
   "id": "81c61f16-d4d9-4252-9f65-24fb403ded1c",
   "metadata": {},
   "source": [
    "#### Create polygon"
   ]
  },
  {
   "cell_type": "markdown",
   "id": "3d9e266d-fc43-4dca-b674-cb1508fbdb8b",
   "metadata": {},
   "source": [
    "Now that we have geographic coordinates we can use Shapely to reconstruct the bounding box as polygon."
   ]
  },
  {
   "cell_type": "code",
   "execution_count": 11,
   "id": "9bfc7942-0f68-4ea6-8fde-33770b6dd619",
   "metadata": {},
   "outputs": [
    {
     "name": "stdout",
     "output_type": "stream",
     "text": [
      "Bounding box as a Shapely Polygon object: POLYGON ((576496.7206033979 5516317.71485327, 576496.7735570294 5516317.71485327, 576496.7735570294 5516317.675628521, 576496.7206033979 5516317.675628521, 576496.7206033979 5516317.71485327))\n"
     ]
    }
   ],
   "source": [
    "# Create a bounding box as a Shapely Polygon object\n",
    "bounding_box = Polygon([(geo_xmin, geo_ymin), (geo_xmax, geo_ymin), (geo_xmax, geo_ymax), (geo_xmin, geo_ymax)])\n",
    "\n",
    "# Print the bounding box\n",
    "print(\"Bounding box as a Shapely Polygon object:\", bounding_box)"
   ]
  },
  {
   "cell_type": "markdown",
   "id": "1ce3e89a-7ec5-4af0-a1e4-93ce0ef43ecf",
   "metadata": {},
   "source": [
    "#### Export bounding box"
   ]
  },
  {
   "cell_type": "markdown",
   "id": "585d3f7a-9477-479a-bb63-bac6f2f23ba4",
   "metadata": {},
   "source": [
    "For propper export we create a geopandas dataframe. After defining the output file we can export the dataframe containing our bounding box. As driver we use GeoJSON. Our bounding box is now ready to be used for further analysis, for example in a GIS Software."
   ]
  },
  {
   "cell_type": "code",
   "execution_count": 12,
   "id": "476586d5-7ce6-4c79-b8b5-63b228d11106",
   "metadata": {},
   "outputs": [
    {
     "name": "stdout",
     "output_type": "stream",
     "text": [
      "Bounding box exported to: bounding_box.geojson\n"
     ]
    }
   ],
   "source": [
    "# Create a GeoDataFrame with the bounding box\n",
    "gdf = gpd.GeoDataFrame(geometry=[bounding_box])\n",
    "\n",
    "# Define the output file path\n",
    "output_file = \"bounding_box.geojson\"\n",
    "\n",
    "# Export the GeoDataFrame to a GeoJSON file\n",
    "gdf.to_file(output_file, driver='GeoJSON')\n",
    "\n",
    "print(\"Bounding box exported to:\", output_file)"
   ]
  },
  {
   "cell_type": "code",
   "execution_count": null,
   "id": "5b695da7-54b0-4077-a728-a934a57127ce",
   "metadata": {},
   "outputs": [],
   "source": []
  }
 ],
 "metadata": {
  "kernelspec": {
   "display_name": "Python 3 (ipykernel)",
   "language": "python",
   "name": "python3"
  },
  "language_info": {
   "codemirror_mode": {
    "name": "ipython",
    "version": 3
   },
   "file_extension": ".py",
   "mimetype": "text/x-python",
   "name": "python",
   "nbconvert_exporter": "python",
   "pygments_lexer": "ipython3",
   "version": "3.10.12"
  }
 },
 "nbformat": 4,
 "nbformat_minor": 5
}
